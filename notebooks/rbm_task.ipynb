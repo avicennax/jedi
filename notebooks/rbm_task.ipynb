{
 "cells": [
  {
   "cell_type": "code",
   "execution_count": 2,
   "metadata": {
    "collapsed": false
   },
   "outputs": [],
   "source": [
    "import imp\n",
    "import examples.models.rdm_fixed as rdm\n",
    "import pycog\n",
    "import numpy as np\n",
    "import matplotlib.pyplot as plt\n",
    "from jedi import jedi\n",
    "from jedi.utils import plot, seedutil, func_generator, init_tools\n",
    "\n",
    "%config InlineBackend.figure_format = 'retina'\n",
    "%matplotlib inline"
   ]
  },
  {
   "cell_type": "code",
   "execution_count": 3,
   "metadata": {
    "collapsed": false
   },
   "outputs": [
    {
     "data": {
      "text/plain": [
       "<module 'pycog' from '/Users/simonhaxby/Code/Python/pycog/pycog/__init__.pyc'>"
      ]
     },
     "execution_count": 3,
     "metadata": {},
     "output_type": "execute_result"
    }
   ],
   "source": [
    "reload(pycog)"
   ]
  },
  {
   "cell_type": "code",
   "execution_count": 5,
   "metadata": {
    "collapsed": false
   },
   "outputs": [
    {
     "data": {
      "text/plain": [
       "<module 'examples.models.rdm_fixed' from '/Users/simonhaxby/Code/Python/pycog/examples/models/rdm_fixed.py'>"
      ]
     },
     "execution_count": 5,
     "metadata": {},
     "output_type": "execute_result"
    }
   ],
   "source": [
    "rdm"
   ]
  },
  {
   "cell_type": "code",
   "execution_count": 6,
   "metadata": {
    "collapsed": true
   },
   "outputs": [],
   "source": [
    "rng = np.random.RandomState(2)"
   ]
  },
  {
   "cell_type": "code",
   "execution_count": 7,
   "metadata": {
    "collapsed": false
   },
   "outputs": [],
   "source": [
    "params = {\n",
    "    'callback_results': None,\n",
    "    'target_output':    True,\n",
    "    'minibatch_index':  1,\n",
    "    'best_costs':       None,\n",
    "    'name':             \"gradient\"\n",
    "    }"
   ]
  },
  {
   "cell_type": "code",
   "execution_count": 43,
   "metadata": {
    "collapsed": false
   },
   "outputs": [
    {
     "data": {
      "text/plain": [
       "{'T': 2000}"
      ]
     },
     "execution_count": 43,
     "metadata": {},
     "output_type": "execute_result"
    }
   ],
   "source": [
    "trials = [rdm.generate_trial(rng, 1, params) for _\n",
    "          in range(20)]\n",
    "trials[0]['epochs']"
   ]
  },
  {
   "cell_type": "code",
   "execution_count": 54,
   "metadata": {
    "collapsed": false
   },
   "outputs": [
    {
     "name": "stdout",
     "output_type": "stream",
     "text": [
      "(1200, 2)\n",
      "(1200, 2)\n"
     ]
    }
   ],
   "source": [
    "trial = trials[1]\n",
    "print trial['outputs'].shape\n",
    "print trial['inputs'].shape"
   ]
  },
  {
   "cell_type": "code",
   "execution_count": 56,
   "metadata": {
    "collapsed": false
   },
   "outputs": [
    {
     "data": {
      "text/plain": [
       "(-0.5, 1.5)"
      ]
     },
     "execution_count": 56,
     "metadata": {},
     "output_type": "execute_result"
    },
    {
     "data": {
      "image/png": "[encoded data removed]",
      "text/plain": [
       "<matplotlib.figure.Figure at 0x1085b8c90>"
      ]
     },
     "metadata": {
      "image/png": {
       "height": 255,
       "width": 390
      }
     },
     "output_type": "display_data"
    }
   ],
   "source": [
    "for trial in trials:\n",
    "    plt.plot(range(len(trial['outputs'][:,1])), trial['outputs'][:,1])\n",
    "    plt.plot(range(len(trial['outputs'][:,0])), trial['outputs'][:,0], 'b')\n",
    "plt.ylim(-.5,1.5)"
   ]
  },
  {
   "cell_type": "code",
   "execution_count": 47,
   "metadata": {
    "collapsed": false
   },
   "outputs": [
    {
     "data": {
      "text/plain": [
       "(-0.5, 1.5)"
      ]
     },
     "execution_count": 47,
     "metadata": {},
     "output_type": "execute_result"
    },
    {
     "data": {
      "image/png": "[encoded data removed]",
      "text/plain": [
       "<matplotlib.figure.Figure at 0x103aa3710>"
      ]
     },
     "metadata": {
      "image/png": {
       "height": 255,
       "width": 390
      }
     },
     "output_type": "display_data"
    }
   ],
   "source": [
    "for trial in trials:\n",
    "    plt.plot(range(len(trial['inputs'][:,1])), trial['inputs'][:,1])\n",
    "    #plt.plot(range(len(trial['inputs'][:,0])), trial['inputs'][:,0], 'b')\n",
    "plt.ylim(-.5,1.5)"
   ]
  },
  {
   "cell_type": "code",
   "execution_count": null,
   "metadata": {
    "collapsed": true
   },
   "outputs": [],
   "source": []
  },
  {
   "cell_type": "code",
   "execution_count": 61,
   "metadata": {
    "collapsed": true
   },
   "outputs": [],
   "source": [
    "# simulation parameters for FORCE\n",
    "dt = .01      # time step\n",
    "tstart = 0 # learning start time\n",
    "tstop = 5  # learning stop time\n",
    "rho = 1.02   # spectral radius of J\n",
    "N = 300      # size of stochastic pool\n",
    "lr = 1.0   # learning rate\n",
    "pE = .8 # percent excitatory\n",
    "sparsity = (.1,1,1) # sparsity\n",
    "I = 1"
   ]
  },
  {
   "cell_type": "code",
   "execution_count": 62,
   "metadata": {
    "collapsed": false
   },
   "outputs": [
    {
     "name": "stdout",
     "output_type": "stream",
     "text": [
      "Simulation run-time (wall): 2.175 seconds\n",
      "Simulation run-time (wall): 1.747 seconds\n",
      "Simulation run-time (wall): 2.455 seconds\n",
      "Simulation run-time (wall): 1.711 seconds\n",
      "Simulation run-time (wall): 1.261 seconds\n"
     ]
    }
   ],
   "source": [
    "errors = []\n",
    "wus = []\n",
    "zs = []\n",
    "ts = []\n",
    "w_ = None\n",
    "seedling = 25\n",
    "\n",
    "J, Wz, Wi, x0, u, w = init_tools.set_simulation_parameters(seedling, N, I, pE=pE, p=sparsity, rho=rho)\n",
    "\n",
    "for trial in trials[:5]:\n",
    "    targets = trial['outputs'][:,1]\n",
    "    inputs = trial['inputs'][:,1]\n",
    "    tmax = float(len(targets))/100-.01\n",
    "    \n",
    "    \n",
    "    if w_ is not None:\n",
    "        w = w_\n",
    "        x0 = x[-1]\n",
    "    \n",
    "    # inp & z are dummy variables\n",
    "    def model(t0, x, params):\n",
    "        i = params['index']\n",
    "        tanh_x = params['tanh_x']\n",
    "        z = params['z']\n",
    "        inp = params['inputs'][i]\n",
    "        return (-x + np.dot(J, tanh_x) + np.dot(Wi, inp) + Wz*z)/dt\n",
    "    \n",
    "    x, t, z, w_, wu, _ = jedi.force(targets, model, lr, dt, tmax, tstart, tstop, x0, w, \n",
    "                                    inputs=inputs)\n",
    "\n",
    "    zs.append(z)\n",
    "    wus.append(wu)\n",
    "    ts.append(t)\n",
    "    \n",
    "    error = np.abs(z[1:]-np.array(targets))\n",
    "    errors.append(error)\n",
    "    \n",
    "errors = np.array(errors)"
   ]
  },
  {
   "cell_type": "code",
   "execution_count": 63,
   "metadata": {
    "collapsed": false
   },
   "outputs": [
    {
     "data": {
      "text/plain": [
       "4.99"
      ]
     },
     "execution_count": 63,
     "metadata": {},
     "output_type": "execute_result"
    }
   ],
   "source": [
    "tmax"
   ]
  },
  {
   "cell_type": "code",
   "execution_count": 64,
   "metadata": {
    "collapsed": true
   },
   "outputs": [],
   "source": [
    "k = 0"
   ]
  },
  {
   "cell_type": "code",
   "execution_count": 65,
   "metadata": {
    "collapsed": false
   },
   "outputs": [
    {
     "name": "stdout",
     "output_type": "stream",
     "text": [
      "1\n"
     ]
    },
    {
     "data": {
      "image/png": "[encoded data removed]",
      "text/plain": [
       "<matplotlib.figure.Figure at 0x10aea89d0>"
      ]
     },
     "metadata": {
      "image/png": {
       "height": 387,
       "width": 396
      }
     },
     "output_type": "display_data"
    }
   ],
   "source": [
    "plt.figure(figsize=(6,6))\n",
    "plot.target_vs_output_plus_error(ts[k], zs[k], wus[k], trials[k]['outputs'][:,1], offset=1, log=False)\n",
    "k+=1\n",
    "print(k)"
   ]
  },
  {
   "cell_type": "code",
   "execution_count": null,
   "metadata": {
    "collapsed": true
   },
   "outputs": [],
   "source": []
  },
  {
   "cell_type": "code",
   "execution_count": null,
   "metadata": {
    "collapsed": true
   },
   "outputs": [],
   "source": []
  }
 ],
 "metadata": {
  "kernelspec": {
   "display_name": "Python 2",
   "language": "python",
   "name": "python2"
  },
  "language_info": {
   "codemirror_mode": {
    "name": "ipython",
    "version": 2
   },
   "file_extension": ".py",
   "mimetype": "text/x-python",
   "name": "python",
   "nbconvert_exporter": "python",
   "pygments_lexer": "ipython2",
   "version": "2.7.11"
  }
 },
 "nbformat": 4,
 "nbformat_minor": 0
}
